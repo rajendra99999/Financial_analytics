{
 "cells": [
  {
   "cell_type": "markdown",
   "id": "greenhouse-entity",
   "metadata": {},
   "source": [
    "# 2.Financial Product Analysis"
   ]
  },
  {
   "cell_type": "markdown",
   "id": "private-coach",
   "metadata": {},
   "source": [
    "## 1. Fixed Deposit Analysis"
   ]
  },
  {
   "cell_type": "code",
   "execution_count": 269,
   "id": "sunrise-incentive",
   "metadata": {},
   "outputs": [],
   "source": [
    "import numpy as np\n",
    "import pandas as pd\n",
    "import matplotlib.pyplot as plt\n",
    "%matplotlib inline"
   ]
  },
  {
   "cell_type": "code",
   "execution_count": 37,
   "id": "heated-dutch",
   "metadata": {},
   "outputs": [],
   "source": [
    "# two type of investment cumulative and non cumulative and input required is investment amount, interest rate, frequency, year\n",
    "\n",
    "def maturity_amount(irpa,frequency,tenor,investment):\n",
    "    maturity_value=np.fv(irpa/frequency,frequency*tenor,0,-investment)\n",
    "    print('maturity amount will be Rs ', round(maturity_value,2))\n",
    "    print('you have earned interst Rs',round(maturity_value-investment,2))\n",
    "\n",
    "def periodic_int(irpa,frequency,tenor,investment):\n",
    "    periodic_interest=investment*(irpa/frequency)\n",
    "    total_interest=periodic_interest*tenor*frequency\n",
    "    \n",
    "    print('interest paid every period is ', periodic_interest)\n",
    "    print('total interst paid on your investment will be: ', total_interest)"
   ]
  },
  {
   "cell_type": "code",
   "execution_count": 21,
   "id": "sunset-crime",
   "metadata": {},
   "outputs": [
    {
     "name": "stdout",
     "output_type": "stream",
     "text": [
      "maturity amount will be Rs  701275.87\n",
      "you have earned interst Rs 201275.87\n",
      "interest paid every period is  35000.0\n"
     ]
    },
    {
     "name": "stderr",
     "output_type": "stream",
     "text": [
      "<ipython-input-20-abe17b89d05f>:4: DeprecationWarning: numpy.fv is deprecated and will be removed from NumPy 1.20. Use numpy_financial.fv instead (https://pypi.org/project/numpy-financial/).\n",
      "  maturity_value=np.fv(irpa/frequency,frequency*tenor,0,-investment)\n"
     ]
    }
   ],
   "source": [
    "maturity_amount(0.07,1,5,500000)"
   ]
  },
  {
   "cell_type": "code",
   "execution_count": 35,
   "id": "polish-description",
   "metadata": {},
   "outputs": [
    {
     "name": "stdout",
     "output_type": "stream",
     "text": [
      "maturity amount will be Rs  638140.78\n",
      "you have earned interst Rs 138140.78\n",
      "maturity amount will be Rs  669112.79\n",
      "you have earned interst Rs 169112.79\n",
      "maturity amount will be Rs  701275.87\n",
      "you have earned interst Rs 201275.87\n",
      "maturity amount will be Rs  734664.04\n",
      "you have earned interst Rs 234664.04\n"
     ]
    },
    {
     "name": "stderr",
     "output_type": "stream",
     "text": [
      "<ipython-input-34-61cb3cbfc557>:4: DeprecationWarning: numpy.fv is deprecated and will be removed from NumPy 1.20. Use numpy_financial.fv instead (https://pypi.org/project/numpy-financial/).\n",
      "  maturity_value=np.fv(irpa/frequency,frequency*tenor,0,-investment)\n"
     ]
    }
   ],
   "source": [
    "mv=[]\n",
    "ir=[0.05,0.06,0.07,0.08]\n",
    "for i in ir:\n",
    "    maturity_amount(i,1,5,500000)\n",
    "    mv.append(maturity_amount)\n"
   ]
  },
  {
   "cell_type": "code",
   "execution_count": 30,
   "id": "japanese-latter",
   "metadata": {},
   "outputs": [
    {
     "name": "stdout",
     "output_type": "stream",
     "text": [
      "interest paid every period is  17500.0\n",
      "total interst paid on your investment will be:  175000.0\n"
     ]
    }
   ],
   "source": [
    "periodic_int(0.07,2,5,500000)"
   ]
  },
  {
   "cell_type": "code",
   "execution_count": 43,
   "id": "operational-lawrence",
   "metadata": {},
   "outputs": [
    {
     "name": "stderr",
     "output_type": "stream",
     "text": [
      "<ipython-input-43-c0e50c5862c0>:7: DeprecationWarning: numpy.fv is deprecated and will be removed from NumPy 1.20. Use numpy_financial.fv instead (https://pypi.org/project/numpy-financial/).\n",
      "  maturity_value=np.fv(i/frequency,frequency*tenor,0,-investment)\n"
     ]
    },
    {
     "data": {
      "text/plain": [
       "[<matplotlib.lines.Line2D at 0x1dea168ddc0>]"
      ]
     },
     "execution_count": 43,
     "metadata": {},
     "output_type": "execute_result"
    },
    {
     "data": {
      "image/png": "[encoded data removed]",
      "text/plain": [
       "<Figure size 432x288 with 1 Axes>"
      ]
     },
     "metadata": {
      "needs_background": "light"
     },
     "output_type": "display_data"
    }
   ],
   "source": [
    "mv=[]\n",
    "ir=[0.05,0.06,0.07,0.08]\n",
    "frequency=1\n",
    "tenor=5\n",
    "investment=500000\n",
    "for i in ir:\n",
    "    maturity_value=np.fv(i/frequency,frequency*tenor,0,-investment)\n",
    "    mv.append(maturity_value)\n",
    "plt.plot(ir,mv)"
   ]
  },
  {
   "cell_type": "markdown",
   "id": "sized-bishop",
   "metadata": {},
   "source": [
    "## 2.Loan Schedule"
   ]
  },
  {
   "cell_type": "code",
   "execution_count": 50,
   "id": "above-court",
   "metadata": {},
   "outputs": [],
   "source": [
    "# input required: loan amount, due at end, tenor, interest rate, frequency (12 monthly)\n",
    "\n",
    "def emi(loan,ir,tenor,frequency,due):\n",
    "    emi_amount=np.pmt(ir/frequency,tenor*frequency,-loan,fv=due)\n",
    "    print('your Emi amount will be: Rs ', round(emi_amount,2))"
   ]
  },
  {
   "cell_type": "code",
   "execution_count": 52,
   "id": "sonic-company",
   "metadata": {},
   "outputs": [
    {
     "name": "stdout",
     "output_type": "stream",
     "text": [
      "your Emi amount will be: Rs  23303.92\n"
     ]
    },
    {
     "name": "stderr",
     "output_type": "stream",
     "text": [
      "<ipython-input-50-603dda3feb73>:4: DeprecationWarning: numpy.pmt is deprecated and will be removed from NumPy 1.20. Use numpy_financial.pmt instead (https://pypi.org/project/numpy-financial/).\n",
      "  emi_amount=np.pmt(ir/frequency,tenor*frequency,-loan,fv=due)\n"
     ]
    }
   ],
   "source": [
    "emi(500000,0.11,2,12,0)"
   ]
  },
  {
   "cell_type": "code",
   "execution_count": 196,
   "id": "adopted-florence",
   "metadata": {},
   "outputs": [],
   "source": [
    "months=[]\n",
    "interest=[]\n",
    "balance=[]\n",
    "principle=[]\n",
    "def emi1(loan,ir,tenor,frequency,due):\n",
    "    emi_amount=np.pmt(ir/frequency,tenor*frequency,-loan,fv=due)\n",
    "    print('your Emi amount will be: Rs ', round(emi_amount,2))\n",
    "    \n",
    "    for i in range((tenor*frequency)+1):\n",
    "        \n",
    "        if i==0:\n",
    "            interest_amount=0\n",
    "            interest.append(interest_amount)\n",
    "            balance_amount=loan\n",
    "            balance.append(balance_amount)\n",
    "            principle_amount=0\n",
    "            principle.append(principle_amount)\n",
    "            month=i\n",
    "            months.append(month)\n",
    "        else:\n",
    "            month=i\n",
    "            months.append(month)\n",
    "            interest_amount=round(balance[i-1]*ir/frequency,2)\n",
    "            interest.append(interest_amount)\n",
    "            principle_amount=round(emi_amount-interest_amount,2)\n",
    "            principle.append(principle_amount)\n",
    "            balance_amount=round(balance[i-1]-principle_amount,2)\n",
    "            balance.append(balance_amount)\n",
    "     \n",
    "    cl_name=['month','interest','principle','balance']\n",
    "    sch=pd.DataFrame(np.array([months,interest,principle,balance]),index=cl_name).T\n",
    "    return sch"
   ]
  },
  {
   "cell_type": "code",
   "execution_count": 197,
   "id": "scientific-disposition",
   "metadata": {},
   "outputs": [
    {
     "name": "stdout",
     "output_type": "stream",
     "text": [
      "your Emi amount will be: Rs  23300.17\n"
     ]
    },
    {
     "name": "stderr",
     "output_type": "stream",
     "text": [
      "<ipython-input-196-22bd6594a249>:6: DeprecationWarning: numpy.pmt is deprecated and will be removed from NumPy 1.20. Use numpy_financial.pmt instead (https://pypi.org/project/numpy-financial/).\n",
      "  emi_amount=np.pmt(ir/frequency,tenor*frequency,-loan,fv=due)\n"
     ]
    },
    {
     "data": {
      "text/html": [
       "<div>\n",
       "<style scoped>\n",
       "    .dataframe tbody tr th:only-of-type {\n",
       "        vertical-align: middle;\n",
       "    }\n",
       "\n",
       "    .dataframe tbody tr th {\n",
       "        vertical-align: top;\n",
       "    }\n",
       "\n",
       "    .dataframe thead th {\n",
       "        text-align: right;\n",
       "    }\n",
       "</style>\n",
       "<table border=\"1\" class=\"dataframe\">\n",
       "  <thead>\n",
       "    <tr style=\"text-align: right;\">\n",
       "      <th></th>\n",
       "      <th>month</th>\n",
       "      <th>interest</th>\n",
       "      <th>principle</th>\n",
       "      <th>balance</th>\n",
       "    </tr>\n",
       "  </thead>\n",
       "  <tbody>\n",
       "    <tr>\n",
       "      <th>0</th>\n",
       "      <td>0.0</td>\n",
       "      <td>0.00</td>\n",
       "      <td>0.00</td>\n",
       "      <td>500000.00</td>\n",
       "    </tr>\n",
       "    <tr>\n",
       "      <th>1</th>\n",
       "      <td>1.0</td>\n",
       "      <td>4583.33</td>\n",
       "      <td>18716.84</td>\n",
       "      <td>481283.16</td>\n",
       "    </tr>\n",
       "    <tr>\n",
       "      <th>2</th>\n",
       "      <td>2.0</td>\n",
       "      <td>4411.76</td>\n",
       "      <td>18888.41</td>\n",
       "      <td>462394.75</td>\n",
       "    </tr>\n",
       "    <tr>\n",
       "      <th>3</th>\n",
       "      <td>3.0</td>\n",
       "      <td>4238.62</td>\n",
       "      <td>19061.55</td>\n",
       "      <td>443333.20</td>\n",
       "    </tr>\n",
       "    <tr>\n",
       "      <th>4</th>\n",
       "      <td>4.0</td>\n",
       "      <td>4063.89</td>\n",
       "      <td>19236.28</td>\n",
       "      <td>424096.92</td>\n",
       "    </tr>\n",
       "    <tr>\n",
       "      <th>5</th>\n",
       "      <td>5.0</td>\n",
       "      <td>3887.56</td>\n",
       "      <td>19412.61</td>\n",
       "      <td>404684.31</td>\n",
       "    </tr>\n",
       "    <tr>\n",
       "      <th>6</th>\n",
       "      <td>6.0</td>\n",
       "      <td>3709.61</td>\n",
       "      <td>19590.56</td>\n",
       "      <td>385093.75</td>\n",
       "    </tr>\n",
       "    <tr>\n",
       "      <th>7</th>\n",
       "      <td>7.0</td>\n",
       "      <td>3530.03</td>\n",
       "      <td>19770.14</td>\n",
       "      <td>365323.61</td>\n",
       "    </tr>\n",
       "    <tr>\n",
       "      <th>8</th>\n",
       "      <td>8.0</td>\n",
       "      <td>3348.80</td>\n",
       "      <td>19951.37</td>\n",
       "      <td>345372.24</td>\n",
       "    </tr>\n",
       "    <tr>\n",
       "      <th>9</th>\n",
       "      <td>9.0</td>\n",
       "      <td>3165.91</td>\n",
       "      <td>20134.26</td>\n",
       "      <td>325237.98</td>\n",
       "    </tr>\n",
       "    <tr>\n",
       "      <th>10</th>\n",
       "      <td>10.0</td>\n",
       "      <td>2981.35</td>\n",
       "      <td>20318.82</td>\n",
       "      <td>304919.16</td>\n",
       "    </tr>\n",
       "    <tr>\n",
       "      <th>11</th>\n",
       "      <td>11.0</td>\n",
       "      <td>2795.09</td>\n",
       "      <td>20505.08</td>\n",
       "      <td>284414.08</td>\n",
       "    </tr>\n",
       "    <tr>\n",
       "      <th>12</th>\n",
       "      <td>12.0</td>\n",
       "      <td>2607.13</td>\n",
       "      <td>20693.04</td>\n",
       "      <td>263721.04</td>\n",
       "    </tr>\n",
       "    <tr>\n",
       "      <th>13</th>\n",
       "      <td>13.0</td>\n",
       "      <td>2417.44</td>\n",
       "      <td>20882.73</td>\n",
       "      <td>242838.31</td>\n",
       "    </tr>\n",
       "    <tr>\n",
       "      <th>14</th>\n",
       "      <td>14.0</td>\n",
       "      <td>2226.02</td>\n",
       "      <td>21074.15</td>\n",
       "      <td>221764.16</td>\n",
       "    </tr>\n",
       "    <tr>\n",
       "      <th>15</th>\n",
       "      <td>15.0</td>\n",
       "      <td>2032.84</td>\n",
       "      <td>21267.33</td>\n",
       "      <td>200496.83</td>\n",
       "    </tr>\n",
       "    <tr>\n",
       "      <th>16</th>\n",
       "      <td>16.0</td>\n",
       "      <td>1837.89</td>\n",
       "      <td>21462.28</td>\n",
       "      <td>179034.55</td>\n",
       "    </tr>\n",
       "    <tr>\n",
       "      <th>17</th>\n",
       "      <td>17.0</td>\n",
       "      <td>1641.15</td>\n",
       "      <td>21659.02</td>\n",
       "      <td>157375.53</td>\n",
       "    </tr>\n",
       "    <tr>\n",
       "      <th>18</th>\n",
       "      <td>18.0</td>\n",
       "      <td>1442.61</td>\n",
       "      <td>21857.56</td>\n",
       "      <td>135517.97</td>\n",
       "    </tr>\n",
       "    <tr>\n",
       "      <th>19</th>\n",
       "      <td>19.0</td>\n",
       "      <td>1242.25</td>\n",
       "      <td>22057.92</td>\n",
       "      <td>113460.05</td>\n",
       "    </tr>\n",
       "    <tr>\n",
       "      <th>20</th>\n",
       "      <td>20.0</td>\n",
       "      <td>1040.05</td>\n",
       "      <td>22260.12</td>\n",
       "      <td>91199.93</td>\n",
       "    </tr>\n",
       "    <tr>\n",
       "      <th>21</th>\n",
       "      <td>21.0</td>\n",
       "      <td>836.00</td>\n",
       "      <td>22464.17</td>\n",
       "      <td>68735.76</td>\n",
       "    </tr>\n",
       "    <tr>\n",
       "      <th>22</th>\n",
       "      <td>22.0</td>\n",
       "      <td>630.08</td>\n",
       "      <td>22670.09</td>\n",
       "      <td>46065.67</td>\n",
       "    </tr>\n",
       "    <tr>\n",
       "      <th>23</th>\n",
       "      <td>23.0</td>\n",
       "      <td>422.27</td>\n",
       "      <td>22877.90</td>\n",
       "      <td>23187.77</td>\n",
       "    </tr>\n",
       "    <tr>\n",
       "      <th>24</th>\n",
       "      <td>24.0</td>\n",
       "      <td>212.55</td>\n",
       "      <td>23087.62</td>\n",
       "      <td>100.15</td>\n",
       "    </tr>\n",
       "  </tbody>\n",
       "</table>\n",
       "</div>"
      ],
      "text/plain": [
       "    month  interest  principle    balance\n",
       "0     0.0      0.00       0.00  500000.00\n",
       "1     1.0   4583.33   18716.84  481283.16\n",
       "2     2.0   4411.76   18888.41  462394.75\n",
       "3     3.0   4238.62   19061.55  443333.20\n",
       "4     4.0   4063.89   19236.28  424096.92\n",
       "5     5.0   3887.56   19412.61  404684.31\n",
       "6     6.0   3709.61   19590.56  385093.75\n",
       "7     7.0   3530.03   19770.14  365323.61\n",
       "8     8.0   3348.80   19951.37  345372.24\n",
       "9     9.0   3165.91   20134.26  325237.98\n",
       "10   10.0   2981.35   20318.82  304919.16\n",
       "11   11.0   2795.09   20505.08  284414.08\n",
       "12   12.0   2607.13   20693.04  263721.04\n",
       "13   13.0   2417.44   20882.73  242838.31\n",
       "14   14.0   2226.02   21074.15  221764.16\n",
       "15   15.0   2032.84   21267.33  200496.83\n",
       "16   16.0   1837.89   21462.28  179034.55\n",
       "17   17.0   1641.15   21659.02  157375.53\n",
       "18   18.0   1442.61   21857.56  135517.97\n",
       "19   19.0   1242.25   22057.92  113460.05\n",
       "20   20.0   1040.05   22260.12   91199.93\n",
       "21   21.0    836.00   22464.17   68735.76\n",
       "22   22.0    630.08   22670.09   46065.67\n",
       "23   23.0    422.27   22877.90   23187.77\n",
       "24   24.0    212.55   23087.62     100.15"
      ]
     },
     "execution_count": 197,
     "metadata": {},
     "output_type": "execute_result"
    }
   ],
   "source": [
    "emi1(500000,0.11,2,12,100)"
   ]
  },
  {
   "cell_type": "markdown",
   "id": "rubber-disclosure",
   "metadata": {},
   "source": [
    "## 3. Equity Analysis \n",
    "### fundmental Analysis"
   ]
  },
  {
   "cell_type": "code",
   "execution_count": 199,
   "id": "hollywood-digit",
   "metadata": {
    "scrolled": true
   },
   "outputs": [],
   "source": [
    "import yfinance as yf"
   ]
  },
  {
   "cell_type": "code",
   "execution_count": 274,
   "id": "toxic-secretariat",
   "metadata": {},
   "outputs": [],
   "source": [
    "tcs=yf.Ticker('TCS.NS')"
   ]
  },
  {
   "cell_type": "code",
   "execution_count": 208,
   "id": "genuine-funds",
   "metadata": {},
   "outputs": [
    {
     "data": {
      "text/plain": [
       "{'zip': '400001',\n",
       " 'sector': 'Technology',\n",
       " 'fullTimeEmployees': 469261,\n",
       " 'longBusinessSummary': 'Tata Consultancy Services Limited provides information technology (IT) and IT enabled services worldwide. It operates through Banking, Financial Services and Insurance; Manufacturing; Retail and Consumer Business; Communication, Media and Technology; and Others segments. The company offers CHROMA, a cloud-based talent management solution; ignio, a cognitive automation software product; iON, an assessment platform; TAP, a procurement offering; TCS MasterCraft, a platform to automate and manage IT processes; and Quartz, a blockchain solution. It also provides customer intelligence and insight solutions to deliver retail, banking, and communications experiences; Intelligent Urban Exchange, an integrated software to accelerate smart city programs; OPTUMERA, a digital merchandising suite; TCS BaNCS, a financial platform; and Jile, an agile DevOps product. In addition, the company offers advanced drug development and connected intelligent platforms; ERP on cloud, an enterprise solution that offers hosted ERP applications and services; HOBS, a platform for subscription based digital business. Further, it provides cognitive business, consulting, analytics, automation and artificial intelligence, Internet of Things, cloud applications, blockchain, cloud infrastructure, cyber security, interactive, industrial engineering, quality engineering, and enterprise services. The company serves banking, financial, and public services; consumer goods and distribution, insurance, life sciences and healthcare, manufacturing, retail, hi-tech, travel, transportation, and hospitality industries; communications, media, and technology industries; and energy, resource, and utility industries. It has strategic partnerships with Posten Norge AS and the University of Tokyo; Zendesk, Inc.; IBM; and PagerDuty, Inc. The company was founded in 1968 and is based in Mumbai, India. Tata Consultancy Services Limited is a subsidiary of Tata Sons Private Limited.',\n",
       " 'city': 'Mumbai',\n",
       " 'phone': '91 22 6778 9999',\n",
       " 'country': 'India',\n",
       " 'companyOfficers': [],\n",
       " 'website': 'http://www.tcs.com',\n",
       " 'maxAge': 1,\n",
       " 'address1': 'TCS House',\n",
       " 'fax': '91 22 6778 9660',\n",
       " 'industry': 'Information Technology Services',\n",
       " 'address2': 'Raveline Street Fort',\n",
       " 'previousClose': 3165,\n",
       " 'regularMarketOpen': 3171,\n",
       " 'twoHundredDayAverage': 2890.8887,\n",
       " 'trailingAnnualDividendYield': 0.0091627175,\n",
       " 'payoutRatio': 0.48049998,\n",
       " 'volume24Hr': None,\n",
       " 'regularMarketDayHigh': 3215,\n",
       " 'navPrice': None,\n",
       " 'averageDailyVolume10Day': 4051630,\n",
       " 'totalAssets': None,\n",
       " 'regularMarketPreviousClose': 3165,\n",
       " 'fiftyDayAverage': 3058.8677,\n",
       " 'trailingAnnualDividendRate': 29,\n",
       " 'open': 3171,\n",
       " 'toCurrency': None,\n",
       " 'averageVolume10days': 4051630,\n",
       " 'expireDate': None,\n",
       " 'yield': None,\n",
       " 'algorithm': None,\n",
       " 'dividendRate': 29,\n",
       " 'exDividendDate': 1610582400,\n",
       " 'beta': 0.690909,\n",
       " 'circulatingSupply': None,\n",
       " 'startDate': None,\n",
       " 'regularMarketDayLow': 3151,\n",
       " 'priceHint': 2,\n",
       " 'currency': 'INR',\n",
       " 'trailingPE': 38.428547,\n",
       " 'regularMarketVolume': 3334338,\n",
       " 'lastMarket': None,\n",
       " 'maxSupply': None,\n",
       " 'openInterest': None,\n",
       " 'marketCap': 11831781359616,\n",
       " 'volumeAllCurrencies': None,\n",
       " 'strikePrice': None,\n",
       " 'averageVolume': 3641332,\n",
       " 'priceToSalesTrailing12Months': 7.3755946,\n",
       " 'dayLow': 3151,\n",
       " 'ask': 3198.25,\n",
       " 'ytdReturn': None,\n",
       " 'askSize': 0,\n",
       " 'volume': 3334338,\n",
       " 'fiftyTwoWeekHigh': 3339.8,\n",
       " 'forwardPE': 33.719166,\n",
       " 'fromCurrency': None,\n",
       " 'fiveYearAvgDividendYield': 1.52,\n",
       " 'fiftyTwoWeekLow': 1654.2,\n",
       " 'bid': 3198.6,\n",
       " 'tradeable': False,\n",
       " 'dividendYield': 0.0092,\n",
       " 'bidSize': 0,\n",
       " 'dayHigh': 3215,\n",
       " 'exchange': 'NSI',\n",
       " 'shortName': 'TATA CONSULTANCY S',\n",
       " 'longName': 'Tata Consultancy Services Limited',\n",
       " 'exchangeTimezoneName': 'Asia/Kolkata',\n",
       " 'exchangeTimezoneShortName': 'IST',\n",
       " 'isEsgPopulated': False,\n",
       " 'gmtOffSetMilliseconds': '19800000',\n",
       " 'quoteType': 'EQUITY',\n",
       " 'symbol': 'TCS.NS',\n",
       " 'messageBoardId': 'finmb_6411769',\n",
       " 'market': 'in_market',\n",
       " 'annualHoldingsTurnover': None,\n",
       " 'enterpriseToRevenue': 7.077,\n",
       " 'beta3Year': None,\n",
       " 'profitMargins': 0.19469999,\n",
       " 'enterpriseToEbitda': 26.251,\n",
       " '52WeekChange': 0.9133116,\n",
       " 'morningStarRiskRating': None,\n",
       " 'forwardEps': 94.86,\n",
       " 'revenueQuarterlyGrowth': None,\n",
       " 'sharesOutstanding': 3699049984,\n",
       " 'fundInceptionDate': None,\n",
       " 'annualReportExpenseRatio': None,\n",
       " 'bookValue': 213.246,\n",
       " 'sharesShort': None,\n",
       " 'sharesPercentSharesOut': None,\n",
       " 'fundFamily': None,\n",
       " 'lastFiscalYearEnd': 1585612800,\n",
       " 'heldPercentInstitutions': 0.1625,\n",
       " 'netIncomeToCommon': 312329994240,\n",
       " 'trailingEps': 83.235,\n",
       " 'lastDividendValue': 6,\n",
       " 'SandP52WeekChange': 0.50914145,\n",
       " 'priceToBook': 14.999578,\n",
       " 'heldPercentInsiders': 0.73105,\n",
       " 'nextFiscalYearEnd': 1648684800,\n",
       " 'mostRecentQuarter': 1609372800,\n",
       " 'shortRatio': None,\n",
       " 'sharesShortPreviousMonthDate': None,\n",
       " 'floatShares': 1023725595,\n",
       " 'enterpriseValue': 11352137531392,\n",
       " 'threeYearAverageReturn': None,\n",
       " 'lastSplitDate': 1527724800,\n",
       " 'lastSplitFactor': '2:1',\n",
       " 'legalType': None,\n",
       " 'lastDividendDate': 1610582400,\n",
       " 'morningStarOverallRating': None,\n",
       " 'earningsQuarterlyGrowth': 0.072,\n",
       " 'dateShortInterest': None,\n",
       " 'pegRatio': None,\n",
       " 'lastCapGain': None,\n",
       " 'shortPercentOfFloat': None,\n",
       " 'sharesShortPriorMonth': None,\n",
       " 'impliedSharesOutstanding': None,\n",
       " 'category': None,\n",
       " 'fiveYearAverageReturn': None,\n",
       " 'regularMarketPrice': 3198.6,\n",
       " 'logo_url': 'https://logo.clearbit.com/tcs.com'}"
      ]
     },
     "execution_count": 208,
     "metadata": {},
     "output_type": "execute_result"
    }
   ],
   "source": [
    "tcs.info"
   ]
  },
  {
   "cell_type": "code",
   "execution_count": 212,
   "id": "smooth-pharmacology",
   "metadata": {},
   "outputs": [],
   "source": [
    "hd=tcs.history( period='36mo',interval='1d')"
   ]
  },
  {
   "cell_type": "code",
   "execution_count": 214,
   "id": "sound-chart",
   "metadata": {},
   "outputs": [
    {
     "data": {
      "text/plain": [
       "[<matplotlib.lines.Line2D at 0x1dea3fd67c0>]"
      ]
     },
     "execution_count": 214,
     "metadata": {},
     "output_type": "execute_result"
    },
    {
     "data": {
      "image/png": "[encoded data removed]",
      "text/plain": [
       "<Figure size 432x288 with 1 Axes>"
      ]
     },
     "metadata": {
      "needs_background": "light"
     },
     "output_type": "display_data"
    }
   ],
   "source": [
    "plt.plot(hd['Close'])"
   ]
  },
  {
   "cell_type": "code",
   "execution_count": 220,
   "id": "chubby-action",
   "metadata": {},
   "outputs": [],
   "source": [
    "ed=tcs.financials"
   ]
  },
  {
   "cell_type": "code",
   "execution_count": 225,
   "id": "handy-karen",
   "metadata": {},
   "outputs": [
    {
     "data": {
      "text/html": [
       "<div>\n",
       "<style scoped>\n",
       "    .dataframe tbody tr th:only-of-type {\n",
       "        vertical-align: middle;\n",
       "    }\n",
       "\n",
       "    .dataframe tbody tr th {\n",
       "        vertical-align: top;\n",
       "    }\n",
       "\n",
       "    .dataframe thead th {\n",
       "        text-align: right;\n",
       "    }\n",
       "</style>\n",
       "<table border=\"1\" class=\"dataframe\">\n",
       "  <thead>\n",
       "    <tr style=\"text-align: right;\">\n",
       "      <th></th>\n",
       "      <th>2020-03-31</th>\n",
       "      <th>2019-03-31</th>\n",
       "      <th>2018-03-31</th>\n",
       "      <th>2017-03-31</th>\n",
       "    </tr>\n",
       "  </thead>\n",
       "  <tbody>\n",
       "    <tr>\n",
       "      <th>Income Before Tax</th>\n",
       "      <td>422480000000.0</td>\n",
       "      <td>415630000000.0</td>\n",
       "      <td>340920000000.0</td>\n",
       "      <td>345130000000.0</td>\n",
       "    </tr>\n",
       "    <tr>\n",
       "      <th>Minority Interest</th>\n",
       "      <td>6230000000.0</td>\n",
       "      <td>4530000000.0</td>\n",
       "      <td>4020000000.0</td>\n",
       "      <td>3660000000.0</td>\n",
       "    </tr>\n",
       "    <tr>\n",
       "      <th>Net Income</th>\n",
       "      <td>323400000000.0</td>\n",
       "      <td>314720000000.0</td>\n",
       "      <td>258260000000.0</td>\n",
       "      <td>262890000000.0</td>\n",
       "    </tr>\n",
       "    <tr>\n",
       "      <th>Selling General Administrative</th>\n",
       "      <td>27020000000.0</td>\n",
       "      <td>42620000000.0</td>\n",
       "      <td>39380000000.0</td>\n",
       "      <td>36850000000.0</td>\n",
       "    </tr>\n",
       "    <tr>\n",
       "      <th>Gross Profit</th>\n",
       "      <td>690920000000.0</td>\n",
       "      <td>659470000000.0</td>\n",
       "      <td>540080000000.0</td>\n",
       "      <td>535370000000.0</td>\n",
       "    </tr>\n",
       "    <tr>\n",
       "      <th>Ebit</th>\n",
       "      <td>385810000000.0</td>\n",
       "      <td>374560000000.0</td>\n",
       "      <td>305180000000.0</td>\n",
       "      <td>303410000000.0</td>\n",
       "    </tr>\n",
       "    <tr>\n",
       "      <th>Operating Income</th>\n",
       "      <td>385810000000.0</td>\n",
       "      <td>374560000000.0</td>\n",
       "      <td>305180000000.0</td>\n",
       "      <td>303410000000.0</td>\n",
       "    </tr>\n",
       "    <tr>\n",
       "      <th>Other Operating Expenses</th>\n",
       "      <td>242800000000.0</td>\n",
       "      <td>221730000000.0</td>\n",
       "      <td>175380000000.0</td>\n",
       "      <td>175240000000.0</td>\n",
       "    </tr>\n",
       "    <tr>\n",
       "      <th>Interest Expense</th>\n",
       "      <td>-9240000000.0</td>\n",
       "      <td>-1980000000.0</td>\n",
       "      <td>-520000000.0</td>\n",
       "      <td>-320000000.0</td>\n",
       "    </tr>\n",
       "    <tr>\n",
       "      <th>Income Tax Expense</th>\n",
       "      <td>98010000000.0</td>\n",
       "      <td>100010000000.0</td>\n",
       "      <td>82120000000.0</td>\n",
       "      <td>81560000000.0</td>\n",
       "    </tr>\n",
       "    <tr>\n",
       "      <th>Total Revenue</th>\n",
       "      <td>1569490000000.0</td>\n",
       "      <td>1464630000000.0</td>\n",
       "      <td>1231040000000.0</td>\n",
       "      <td>1179660000000.0</td>\n",
       "    </tr>\n",
       "    <tr>\n",
       "      <th>Total Operating Expenses</th>\n",
       "      <td>1183680000000.0</td>\n",
       "      <td>1090070000000.0</td>\n",
       "      <td>925860000000.0</td>\n",
       "      <td>876250000000.0</td>\n",
       "    </tr>\n",
       "    <tr>\n",
       "      <th>Cost Of Revenue</th>\n",
       "      <td>878570000000.0</td>\n",
       "      <td>805160000000.0</td>\n",
       "      <td>690960000000.0</td>\n",
       "      <td>644290000000.0</td>\n",
       "    </tr>\n",
       "    <tr>\n",
       "      <th>Total Other Income Expense Net</th>\n",
       "      <td>36670000000.0</td>\n",
       "      <td>41070000000.0</td>\n",
       "      <td>35740000000.0</td>\n",
       "      <td>41720000000.0</td>\n",
       "    </tr>\n",
       "    <tr>\n",
       "      <th>Net Income From Continuing Ops</th>\n",
       "      <td>324470000000.0</td>\n",
       "      <td>315620000000.0</td>\n",
       "      <td>258800000000.0</td>\n",
       "      <td>263570000000.0</td>\n",
       "    </tr>\n",
       "    <tr>\n",
       "      <th>Net Income Applicable To Common Shares</th>\n",
       "      <td>323400000000.0</td>\n",
       "      <td>314720000000.0</td>\n",
       "      <td>258260000000.0</td>\n",
       "      <td>262890000000.0</td>\n",
       "    </tr>\n",
       "  </tbody>\n",
       "</table>\n",
       "</div>"
      ],
      "text/plain": [
       "                                             2020-03-31       2019-03-31  \\\n",
       "Income Before Tax                        422480000000.0   415630000000.0   \n",
       "Minority Interest                          6230000000.0     4530000000.0   \n",
       "Net Income                               323400000000.0   314720000000.0   \n",
       "Selling General Administrative            27020000000.0    42620000000.0   \n",
       "Gross Profit                             690920000000.0   659470000000.0   \n",
       "Ebit                                     385810000000.0   374560000000.0   \n",
       "Operating Income                         385810000000.0   374560000000.0   \n",
       "Other Operating Expenses                 242800000000.0   221730000000.0   \n",
       "Interest Expense                          -9240000000.0    -1980000000.0   \n",
       "Income Tax Expense                        98010000000.0   100010000000.0   \n",
       "Total Revenue                           1569490000000.0  1464630000000.0   \n",
       "Total Operating Expenses                1183680000000.0  1090070000000.0   \n",
       "Cost Of Revenue                          878570000000.0   805160000000.0   \n",
       "Total Other Income Expense Net            36670000000.0    41070000000.0   \n",
       "Net Income From Continuing Ops           324470000000.0   315620000000.0   \n",
       "Net Income Applicable To Common Shares   323400000000.0   314720000000.0   \n",
       "\n",
       "                                             2018-03-31       2017-03-31  \n",
       "Income Before Tax                        340920000000.0   345130000000.0  \n",
       "Minority Interest                          4020000000.0     3660000000.0  \n",
       "Net Income                               258260000000.0   262890000000.0  \n",
       "Selling General Administrative            39380000000.0    36850000000.0  \n",
       "Gross Profit                             540080000000.0   535370000000.0  \n",
       "Ebit                                     305180000000.0   303410000000.0  \n",
       "Operating Income                         305180000000.0   303410000000.0  \n",
       "Other Operating Expenses                 175380000000.0   175240000000.0  \n",
       "Interest Expense                           -520000000.0     -320000000.0  \n",
       "Income Tax Expense                        82120000000.0    81560000000.0  \n",
       "Total Revenue                           1231040000000.0  1179660000000.0  \n",
       "Total Operating Expenses                 925860000000.0   876250000000.0  \n",
       "Cost Of Revenue                          690960000000.0   644290000000.0  \n",
       "Total Other Income Expense Net            35740000000.0    41720000000.0  \n",
       "Net Income From Continuing Ops           258800000000.0   263570000000.0  \n",
       "Net Income Applicable To Common Shares   258260000000.0   262890000000.0  "
      ]
     },
     "execution_count": 225,
     "metadata": {},
     "output_type": "execute_result"
    }
   ],
   "source": [
    "ed.dropna()"
   ]
  },
  {
   "cell_type": "code",
   "execution_count": 226,
   "id": "tutorial-corporation",
   "metadata": {},
   "outputs": [],
   "source": [
    "bs=tcs.balancesheet"
   ]
  },
  {
   "cell_type": "code",
   "execution_count": 228,
   "id": "foster-rolling",
   "metadata": {},
   "outputs": [
    {
     "data": {
      "text/html": [
       "<div>\n",
       "<style scoped>\n",
       "    .dataframe tbody tr th:only-of-type {\n",
       "        vertical-align: middle;\n",
       "    }\n",
       "\n",
       "    .dataframe tbody tr th {\n",
       "        vertical-align: top;\n",
       "    }\n",
       "\n",
       "    .dataframe thead th {\n",
       "        text-align: right;\n",
       "    }\n",
       "</style>\n",
       "<table border=\"1\" class=\"dataframe\">\n",
       "  <thead>\n",
       "    <tr style=\"text-align: right;\">\n",
       "      <th></th>\n",
       "      <th>2020-03-31</th>\n",
       "      <th>2019-03-31</th>\n",
       "      <th>2018-03-31</th>\n",
       "      <th>2017-03-31</th>\n",
       "    </tr>\n",
       "  </thead>\n",
       "  <tbody>\n",
       "    <tr>\n",
       "      <th>Intangible Assets</th>\n",
       "      <td>2.830000e+09</td>\n",
       "      <td>1.790000e+09</td>\n",
       "      <td>1.200000e+08</td>\n",
       "      <td>4.700000e+08</td>\n",
       "    </tr>\n",
       "    <tr>\n",
       "      <th>Total Liab</th>\n",
       "      <td>3.615000e+11</td>\n",
       "      <td>2.504400e+11</td>\n",
       "      <td>2.076600e+11</td>\n",
       "      <td>1.667200e+11</td>\n",
       "    </tr>\n",
       "    <tr>\n",
       "      <th>Total Stockholder Equity</th>\n",
       "      <td>8.412600e+11</td>\n",
       "      <td>8.944600e+11</td>\n",
       "      <td>8.512800e+11</td>\n",
       "      <td>8.621400e+11</td>\n",
       "    </tr>\n",
       "    <tr>\n",
       "      <th>Minority Interest</th>\n",
       "      <td>6.230000e+09</td>\n",
       "      <td>4.530000e+09</td>\n",
       "      <td>4.020000e+09</td>\n",
       "      <td>3.660000e+09</td>\n",
       "    </tr>\n",
       "    <tr>\n",
       "      <th>Deferred Long Term Liab</th>\n",
       "      <td>2.860000e+09</td>\n",
       "      <td>1.740000e+09</td>\n",
       "      <td>9.500000e+08</td>\n",
       "      <td>0.000000e+00</td>\n",
       "    </tr>\n",
       "    <tr>\n",
       "      <th>Other Current Liab</th>\n",
       "      <td>9.520000e+10</td>\n",
       "      <td>7.629000e+10</td>\n",
       "      <td>5.801000e+10</td>\n",
       "      <td>4.778000e+10</td>\n",
       "    </tr>\n",
       "    <tr>\n",
       "      <th>Total Assets</th>\n",
       "      <td>1.208990e+12</td>\n",
       "      <td>1.149430e+12</td>\n",
       "      <td>1.062960e+12</td>\n",
       "      <td>1.032520e+12</td>\n",
       "    </tr>\n",
       "    <tr>\n",
       "      <th>Common Stock</th>\n",
       "      <td>3.750000e+09</td>\n",
       "      <td>3.750000e+09</td>\n",
       "      <td>1.910000e+09</td>\n",
       "      <td>1.970000e+09</td>\n",
       "    </tr>\n",
       "    <tr>\n",
       "      <th>Other Current Assets</th>\n",
       "      <td>1.837000e+10</td>\n",
       "      <td>1.891000e+10</td>\n",
       "      <td>1.318000e+10</td>\n",
       "      <td>1.620000e+10</td>\n",
       "    </tr>\n",
       "    <tr>\n",
       "      <th>Retained Earnings</th>\n",
       "      <td>8.080600e+11</td>\n",
       "      <td>8.688900e+11</td>\n",
       "      <td>8.301400e+11</td>\n",
       "      <td>8.193500e+11</td>\n",
       "    </tr>\n",
       "    <tr>\n",
       "      <th>Other Liab</th>\n",
       "      <td>2.184000e+10</td>\n",
       "      <td>2.916000e+10</td>\n",
       "      <td>2.884000e+10</td>\n",
       "      <td>2.089000e+10</td>\n",
       "    </tr>\n",
       "    <tr>\n",
       "      <th>Good Will</th>\n",
       "      <td>1.710000e+10</td>\n",
       "      <td>1.700000e+10</td>\n",
       "      <td>1.745000e+10</td>\n",
       "      <td>1.597000e+10</td>\n",
       "    </tr>\n",
       "    <tr>\n",
       "      <th>Treasury Stock</th>\n",
       "      <td>2.945000e+10</td>\n",
       "      <td>2.182000e+10</td>\n",
       "      <td>1.923000e+10</td>\n",
       "      <td>2.163000e+10</td>\n",
       "    </tr>\n",
       "    <tr>\n",
       "      <th>Other Assets</th>\n",
       "      <td>8.427000e+10</td>\n",
       "      <td>9.501000e+10</td>\n",
       "      <td>1.170100e+11</td>\n",
       "      <td>9.490000e+10</td>\n",
       "    </tr>\n",
       "    <tr>\n",
       "      <th>Cash</th>\n",
       "      <td>8.646000e+10</td>\n",
       "      <td>7.224000e+10</td>\n",
       "      <td>4.883000e+10</td>\n",
       "      <td>3.597000e+10</td>\n",
       "    </tr>\n",
       "    <tr>\n",
       "      <th>Total Current Liabilities</th>\n",
       "      <td>2.706000e+11</td>\n",
       "      <td>2.208400e+11</td>\n",
       "      <td>1.782800e+11</td>\n",
       "      <td>1.451200e+11</td>\n",
       "    </tr>\n",
       "    <tr>\n",
       "      <th>Deferred Long Term Asset Charges</th>\n",
       "      <td>2.828000e+10</td>\n",
       "      <td>2.656000e+10</td>\n",
       "      <td>3.449000e+10</td>\n",
       "      <td>2.828000e+10</td>\n",
       "    </tr>\n",
       "    <tr>\n",
       "      <th>Other Stockholder Equity</th>\n",
       "      <td>2.945000e+10</td>\n",
       "      <td>2.182000e+10</td>\n",
       "      <td>1.923000e+10</td>\n",
       "      <td>2.163000e+10</td>\n",
       "    </tr>\n",
       "    <tr>\n",
       "      <th>Property Plant Equipment</th>\n",
       "      <td>1.984100e+11</td>\n",
       "      <td>1.137400e+11</td>\n",
       "      <td>1.149400e+11</td>\n",
       "      <td>1.159800e+11</td>\n",
       "    </tr>\n",
       "    <tr>\n",
       "      <th>Total Current Assets</th>\n",
       "      <td>9.023700e+11</td>\n",
       "      <td>9.213100e+11</td>\n",
       "      <td>8.122400e+11</td>\n",
       "      <td>8.031600e+11</td>\n",
       "    </tr>\n",
       "    <tr>\n",
       "      <th>Long Term Investments</th>\n",
       "      <td>4.010000e+09</td>\n",
       "      <td>5.800000e+08</td>\n",
       "      <td>1.200000e+09</td>\n",
       "      <td>2.040000e+09</td>\n",
       "    </tr>\n",
       "    <tr>\n",
       "      <th>Net Tangible Assets</th>\n",
       "      <td>8.213300e+11</td>\n",
       "      <td>8.756700e+11</td>\n",
       "      <td>8.337100e+11</td>\n",
       "      <td>8.457000e+11</td>\n",
       "    </tr>\n",
       "    <tr>\n",
       "      <th>Short Term Investments</th>\n",
       "      <td>9.650000e+09</td>\n",
       "      <td>6.135000e+10</td>\n",
       "      <td>2.091000e+10</td>\n",
       "      <td>4.700000e+09</td>\n",
       "    </tr>\n",
       "    <tr>\n",
       "      <th>Net Receivables</th>\n",
       "      <td>5.115700e+11</td>\n",
       "      <td>4.762700e+11</td>\n",
       "      <td>3.610400e+11</td>\n",
       "      <td>3.196300e+11</td>\n",
       "    </tr>\n",
       "    <tr>\n",
       "      <th>Inventory</th>\n",
       "      <td>5.000000e+07</td>\n",
       "      <td>1.000000e+08</td>\n",
       "      <td>2.600000e+08</td>\n",
       "      <td>2.100000e+08</td>\n",
       "    </tr>\n",
       "    <tr>\n",
       "      <th>Accounts Payable</th>\n",
       "      <td>6.740000e+10</td>\n",
       "      <td>6.292000e+10</td>\n",
       "      <td>5.094000e+10</td>\n",
       "      <td>4.905000e+10</td>\n",
       "    </tr>\n",
       "    <tr>\n",
       "      <th>Capital Surplus</th>\n",
       "      <td>0.000000e+00</td>\n",
       "      <td>0.000000e+00</td>\n",
       "      <td>0.000000e+00</td>\n",
       "      <td>1.919000e+10</td>\n",
       "    </tr>\n",
       "  </tbody>\n",
       "</table>\n",
       "</div>"
      ],
      "text/plain": [
       "                                    2020-03-31    2019-03-31    2018-03-31  \\\n",
       "Intangible Assets                 2.830000e+09  1.790000e+09  1.200000e+08   \n",
       "Total Liab                        3.615000e+11  2.504400e+11  2.076600e+11   \n",
       "Total Stockholder Equity          8.412600e+11  8.944600e+11  8.512800e+11   \n",
       "Minority Interest                 6.230000e+09  4.530000e+09  4.020000e+09   \n",
       "Deferred Long Term Liab           2.860000e+09  1.740000e+09  9.500000e+08   \n",
       "Other Current Liab                9.520000e+10  7.629000e+10  5.801000e+10   \n",
       "Total Assets                      1.208990e+12  1.149430e+12  1.062960e+12   \n",
       "Common Stock                      3.750000e+09  3.750000e+09  1.910000e+09   \n",
       "Other Current Assets              1.837000e+10  1.891000e+10  1.318000e+10   \n",
       "Retained Earnings                 8.080600e+11  8.688900e+11  8.301400e+11   \n",
       "Other Liab                        2.184000e+10  2.916000e+10  2.884000e+10   \n",
       "Good Will                         1.710000e+10  1.700000e+10  1.745000e+10   \n",
       "Treasury Stock                    2.945000e+10  2.182000e+10  1.923000e+10   \n",
       "Other Assets                      8.427000e+10  9.501000e+10  1.170100e+11   \n",
       "Cash                              8.646000e+10  7.224000e+10  4.883000e+10   \n",
       "Total Current Liabilities         2.706000e+11  2.208400e+11  1.782800e+11   \n",
       "Deferred Long Term Asset Charges  2.828000e+10  2.656000e+10  3.449000e+10   \n",
       "Other Stockholder Equity          2.945000e+10  2.182000e+10  1.923000e+10   \n",
       "Property Plant Equipment          1.984100e+11  1.137400e+11  1.149400e+11   \n",
       "Total Current Assets              9.023700e+11  9.213100e+11  8.122400e+11   \n",
       "Long Term Investments             4.010000e+09  5.800000e+08  1.200000e+09   \n",
       "Net Tangible Assets               8.213300e+11  8.756700e+11  8.337100e+11   \n",
       "Short Term Investments            9.650000e+09  6.135000e+10  2.091000e+10   \n",
       "Net Receivables                   5.115700e+11  4.762700e+11  3.610400e+11   \n",
       "Inventory                         5.000000e+07  1.000000e+08  2.600000e+08   \n",
       "Accounts Payable                  6.740000e+10  6.292000e+10  5.094000e+10   \n",
       "Capital Surplus                   0.000000e+00  0.000000e+00  0.000000e+00   \n",
       "\n",
       "                                    2017-03-31  \n",
       "Intangible Assets                 4.700000e+08  \n",
       "Total Liab                        1.667200e+11  \n",
       "Total Stockholder Equity          8.621400e+11  \n",
       "Minority Interest                 3.660000e+09  \n",
       "Deferred Long Term Liab           0.000000e+00  \n",
       "Other Current Liab                4.778000e+10  \n",
       "Total Assets                      1.032520e+12  \n",
       "Common Stock                      1.970000e+09  \n",
       "Other Current Assets              1.620000e+10  \n",
       "Retained Earnings                 8.193500e+11  \n",
       "Other Liab                        2.089000e+10  \n",
       "Good Will                         1.597000e+10  \n",
       "Treasury Stock                    2.163000e+10  \n",
       "Other Assets                      9.490000e+10  \n",
       "Cash                              3.597000e+10  \n",
       "Total Current Liabilities         1.451200e+11  \n",
       "Deferred Long Term Asset Charges  2.828000e+10  \n",
       "Other Stockholder Equity          2.163000e+10  \n",
       "Property Plant Equipment          1.159800e+11  \n",
       "Total Current Assets              8.031600e+11  \n",
       "Long Term Investments             2.040000e+09  \n",
       "Net Tangible Assets               8.457000e+11  \n",
       "Short Term Investments            4.700000e+09  \n",
       "Net Receivables                   3.196300e+11  \n",
       "Inventory                         2.100000e+08  \n",
       "Accounts Payable                  4.905000e+10  \n",
       "Capital Surplus                   1.919000e+10  "
      ]
     },
     "execution_count": 228,
     "metadata": {},
     "output_type": "execute_result"
    }
   ],
   "source": [
    "bs.fillna(0)"
   ]
  },
  {
   "cell_type": "markdown",
   "id": "built-trading",
   "metadata": {},
   "source": [
    "## 4. Insurance Product"
   ]
  },
  {
   "cell_type": "code",
   "execution_count": 243,
   "id": "light-activation",
   "metadata": {},
   "outputs": [],
   "source": [
    "amt=[]\n",
    "def insurance_return(premium,term,ppt,maturity):\n",
    "    for i in range(1,term+1):\n",
    "        if i<=ppt:\n",
    "            amount=premium\n",
    "            amt.append(-amount)\n",
    "        elif i<term:\n",
    "            amt.append(0)\n",
    "        else:\n",
    "            amt.append(maturity)\n",
    "    irr=np.irr(amt)\n",
    "    return 'your policy expected return will be: {} %'.format(round(irr*100,2)) , amt\n",
    "        \n",
    "    "
   ]
  },
  {
   "cell_type": "code",
   "execution_count": 244,
   "id": "varying-miracle",
   "metadata": {},
   "outputs": [
    {
     "name": "stderr",
     "output_type": "stream",
     "text": [
      "<ipython-input-243-c256ae39f643>:11: DeprecationWarning: numpy.irr is deprecated and will be removed from NumPy 1.20. Use numpy_financial.irr instead (https://pypi.org/project/numpy-financial/).\n",
      "  irr=np.irr(amt)\n"
     ]
    },
    {
     "data": {
      "text/plain": [
       "('your policy expected return will be: 4.27 %',\n",
       " [-50000,\n",
       "  -50000,\n",
       "  -50000,\n",
       "  -50000,\n",
       "  -50000,\n",
       "  -50000,\n",
       "  0,\n",
       "  0,\n",
       "  0,\n",
       "  0,\n",
       "  0,\n",
       "  0,\n",
       "  0,\n",
       "  0,\n",
       "  0,\n",
       "  0,\n",
       "  0,\n",
       "  0,\n",
       "  0,\n",
       "  600000])"
      ]
     },
     "execution_count": 244,
     "metadata": {},
     "output_type": "execute_result"
    }
   ],
   "source": [
    "insurance_return(50000,20,6,600000)"
   ]
  },
  {
   "cell_type": "markdown",
   "id": "major-flower",
   "metadata": {},
   "source": [
    "## 5. Mutual fund SIP"
   ]
  },
  {
   "cell_type": "code",
   "execution_count": 267,
   "id": "cubic-destination",
   "metadata": {},
   "outputs": [],
   "source": [
    "def sip_term(sip_amount,rr,frequency,maturity):\n",
    "    net_period=np.nper(rr/frequency,-sip_amount,0,fv=maturity)\n",
    "    months=np.round(net_period,0)\n",
    "    years=months/12\n",
    "    print('to reach expected amount have to invest for {} months or {} years'.format(months,years))\n",
    "    print(months)"
   ]
  },
  {
   "cell_type": "code",
   "execution_count": 268,
   "id": "commercial-riding",
   "metadata": {},
   "outputs": [
    {
     "name": "stdout",
     "output_type": "stream",
     "text": [
      "to reach expected amount have to invest for 18.0 months or 1.5 years\n",
      "18.0\n"
     ]
    },
    {
     "name": "stderr",
     "output_type": "stream",
     "text": [
      "<ipython-input-267-4a836f976022>:2: DeprecationWarning: numpy.nper is deprecated and will be removed from NumPy 1.20. Use numpy_financial.nper instead (https://pypi.org/project/numpy-financial/).\n",
      "  net_period=np.nper(rr/frequency,-sip_amount,0,fv=maturity)\n"
     ]
    }
   ],
   "source": [
    "sip_term(2500,0.12,12,50000)"
   ]
  },
  {
   "cell_type": "code",
   "execution_count": 289,
   "id": "naughty-durham",
   "metadata": {},
   "outputs": [],
   "source": [
    "nifty=yf.Ticker('^NSEI')"
   ]
  },
  {
   "cell_type": "code",
   "execution_count": 290,
   "id": "developmental-groove",
   "metadata": {},
   "outputs": [],
   "source": [
    "nifty=nifty.history(period='36mo',interval='1d')"
   ]
  },
  {
   "cell_type": "code",
   "execution_count": 291,
   "id": "attended-sauce",
   "metadata": {},
   "outputs": [],
   "source": [
    "nifty=nifty['Close']\n",
    "tcs=hd['Close']"
   ]
  },
  {
   "cell_type": "code",
   "execution_count": 294,
   "id": "inside-expansion",
   "metadata": {},
   "outputs": [],
   "source": [
    "New_data=pd.concat([nifty,tcs],axis=1)"
   ]
  },
  {
   "cell_type": "code",
   "execution_count": 296,
   "id": "material-kenya",
   "metadata": {},
   "outputs": [
    {
     "data": {
      "text/html": [
       "<div>\n",
       "<style scoped>\n",
       "    .dataframe tbody tr th:only-of-type {\n",
       "        vertical-align: middle;\n",
       "    }\n",
       "\n",
       "    .dataframe tbody tr th {\n",
       "        vertical-align: top;\n",
       "    }\n",
       "\n",
       "    .dataframe thead th {\n",
       "        text-align: right;\n",
       "    }\n",
       "</style>\n",
       "<table border=\"1\" class=\"dataframe\">\n",
       "  <thead>\n",
       "    <tr style=\"text-align: right;\">\n",
       "      <th></th>\n",
       "      <th>Close</th>\n",
       "      <th>Close</th>\n",
       "    </tr>\n",
       "  </thead>\n",
       "  <tbody>\n",
       "    <tr>\n",
       "      <th>Close</th>\n",
       "      <td>1.810571e+06</td>\n",
       "      <td>464055.01931</td>\n",
       "    </tr>\n",
       "    <tr>\n",
       "      <th>Close</th>\n",
       "      <td>4.640550e+05</td>\n",
       "      <td>169023.78275</td>\n",
       "    </tr>\n",
       "  </tbody>\n",
       "</table>\n",
       "</div>"
      ],
      "text/plain": [
       "              Close         Close\n",
       "Close  1.810571e+06  464055.01931\n",
       "Close  4.640550e+05  169023.78275"
      ]
     },
     "execution_count": 296,
     "metadata": {},
     "output_type": "execute_result"
    }
   ],
   "source": [
    "New_data.cov()"
   ]
  },
  {
   "cell_type": "code",
   "execution_count": 297,
   "id": "architectural-newport",
   "metadata": {},
   "outputs": [],
   "source": [
    "sd=nifty.std()"
   ]
  },
  {
   "cell_type": "code",
   "execution_count": 298,
   "id": "convenient-cologne",
   "metadata": {},
   "outputs": [
    {
     "data": {
      "text/plain": [
       "1345.5746391862424"
      ]
     },
     "execution_count": 298,
     "metadata": {},
     "output_type": "execute_result"
    }
   ],
   "source": [
    "sd"
   ]
  },
  {
   "cell_type": "code",
   "execution_count": 301,
   "id": "bacterial-nation",
   "metadata": {},
   "outputs": [],
   "source": [
    "beta=464055/sd**2"
   ]
  },
  {
   "cell_type": "code",
   "execution_count": 302,
   "id": "objective-buffalo",
   "metadata": {},
   "outputs": [
    {
     "data": {
      "text/plain": [
       "0.25630310653586597"
      ]
     },
     "execution_count": 302,
     "metadata": {},
     "output_type": "execute_result"
    }
   ],
   "source": [
    "beta"
   ]
  },
  {
   "cell_type": "code",
   "execution_count": 308,
   "id": "endless-longer",
   "metadata": {},
   "outputs": [],
   "source": [
    "itc=yf.Ticker('ITC.NS')"
   ]
  },
  {
   "cell_type": "code",
   "execution_count": 313,
   "id": "municipal-blood",
   "metadata": {},
   "outputs": [],
   "source": [
    "idc=itc.history(period='1d',interval='15m')"
   ]
  },
  {
   "cell_type": "code",
   "execution_count": null,
   "id": "turkish-cameroon",
   "metadata": {},
   "outputs": [],
   "source": []
  },
  {
   "cell_type": "code",
   "execution_count": null,
   "id": "thorough-smoke",
   "metadata": {},
   "outputs": [],
   "source": []
  }
 ],
 "metadata": {
  "kernelspec": {
   "display_name": "Python 3",
   "language": "python",
   "name": "python3"
  },
  "language_info": {
   "codemirror_mode": {
    "name": "ipython",
    "version": 3
   },
   "file_extension": ".py",
   "mimetype": "text/x-python",
   "name": "python",
   "nbconvert_exporter": "python",
   "pygments_lexer": "ipython3",
   "version": "3.9.2"
  }
 },
 "nbformat": 4,
 "nbformat_minor": 5
}
