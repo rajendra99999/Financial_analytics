{
 "cells": [
  {
   "cell_type": "markdown",
   "id": "freelance-checkout",
   "metadata": {},
   "source": [
    "# 1. Introduction to FA"
   ]
  },
  {
   "cell_type": "markdown",
   "id": "spoken-costs",
   "metadata": {},
   "source": [
    "## Inflation "
   ]
  },
  {
   "cell_type": "code",
   "execution_count": 1,
   "id": "honey-hebrew",
   "metadata": {},
   "outputs": [],
   "source": [
    "import pandas as pd\n",
    "import numpy as np\n",
    "import yfinance as yf\n",
    "import matplotlib.pyplot as plt\n",
    "%matplotlib inline"
   ]
  },
  {
   "cell_type": "code",
   "execution_count": 7,
   "id": "prime-american",
   "metadata": {},
   "outputs": [
    {
     "name": "stdout",
     "output_type": "stream",
     "text": [
      "Collecting Quandl\n",
      "  Downloading Quandl-3.6.1-py2.py3-none-any.whl (26 kB)\n",
      "Requirement already satisfied: numpy>=1.8 in c:\\users\\revei\\appdata\\local\\programs\\python\\python39\\lib\\site-packages (from Quandl) (1.19.5)\n",
      "Requirement already satisfied: python-dateutil in c:\\users\\revei\\appdata\\local\\programs\\python\\python39\\lib\\site-packages (from Quandl) (2.8.1)\n",
      "Requirement already satisfied: pandas>=0.14 in c:\\users\\revei\\appdata\\local\\programs\\python\\python39\\lib\\site-packages (from Quandl) (1.2.3)\n",
      "Collecting inflection>=0.3.1\n",
      "  Downloading inflection-0.5.1-py2.py3-none-any.whl (9.5 kB)\n",
      "Requirement already satisfied: requests>=2.7.0 in c:\\users\\revei\\appdata\\local\\programs\\python\\python39\\lib\\site-packages (from Quandl) (2.25.1)\n",
      "Collecting more-itertools\n",
      "  Downloading more_itertools-8.7.0-py3-none-any.whl (48 kB)\n",
      "Requirement already satisfied: six in c:\\users\\revei\\appdata\\local\\programs\\python\\python39\\lib\\site-packages (from Quandl) (1.15.0)\n",
      "Requirement already satisfied: pytz>=2017.3 in c:\\users\\revei\\appdata\\local\\programs\\python\\python39\\lib\\site-packages (from pandas>=0.14->Quandl) (2021.1)\n",
      "Requirement already satisfied: urllib3<1.27,>=1.21.1 in c:\\users\\revei\\appdata\\local\\programs\\python\\python39\\lib\\site-packages (from requests>=2.7.0->Quandl) (1.26.3)\n",
      "Requirement already satisfied: idna<3,>=2.5 in c:\\users\\revei\\appdata\\local\\programs\\python\\python39\\lib\\site-packages (from requests>=2.7.0->Quandl) (2.10)\n",
      "Requirement already satisfied: chardet<5,>=3.0.2 in c:\\users\\revei\\appdata\\local\\programs\\python\\python39\\lib\\site-packages (from requests>=2.7.0->Quandl) (4.0.0)\n",
      "Requirement already satisfied: certifi>=2017.4.17 in c:\\users\\revei\\appdata\\local\\programs\\python\\python39\\lib\\site-packages (from requests>=2.7.0->Quandl) (2020.12.5)\n",
      "Installing collected packages: more-itertools, inflection, Quandl\n",
      "Successfully installed Quandl-3.6.1 inflection-0.5.1 more-itertools-8.7.0\n",
      "Note: you may need to restart the kernel to use updated packages.\n"
     ]
    }
   ],
   "source": [
    "pip install Quandl"
   ]
  },
  {
   "cell_type": "code",
   "execution_count": 8,
   "id": "potential-thomson",
   "metadata": {},
   "outputs": [],
   "source": [
    "import quandl"
   ]
  },
  {
   "cell_type": "code",
   "execution_count": 9,
   "id": "random-exposure",
   "metadata": {},
   "outputs": [],
   "source": [
    "data=quandl.get(\"UGID/WPR_IND\", authtoken=\"gzUcpem98yniDrTm9Tf_\")"
   ]
  },
  {
   "cell_type": "code",
   "execution_count": 10,
   "id": "developed-configuration",
   "metadata": {},
   "outputs": [
    {
     "data": {
      "text/html": [
       "<div>\n",
       "<style scoped>\n",
       "    .dataframe tbody tr th:only-of-type {\n",
       "        vertical-align: middle;\n",
       "    }\n",
       "\n",
       "    .dataframe tbody tr th {\n",
       "        vertical-align: top;\n",
       "    }\n",
       "\n",
       "    .dataframe thead th {\n",
       "        text-align: right;\n",
       "    }\n",
       "</style>\n",
       "<table border=\"1\" class=\"dataframe\">\n",
       "  <thead>\n",
       "    <tr style=\"text-align: right;\">\n",
       "      <th></th>\n",
       "      <th>PPI / WPI; INDEX NUMBER</th>\n",
       "    </tr>\n",
       "    <tr>\n",
       "      <th>Date</th>\n",
       "      <th></th>\n",
       "    </tr>\n",
       "  </thead>\n",
       "  <tbody>\n",
       "    <tr>\n",
       "      <th>1948-12-31</th>\n",
       "      <td>3.25101</td>\n",
       "    </tr>\n",
       "    <tr>\n",
       "      <th>1949-12-31</th>\n",
       "      <td>3.38105</td>\n",
       "    </tr>\n",
       "    <tr>\n",
       "      <th>1950-12-31</th>\n",
       "      <td>3.55699</td>\n",
       "    </tr>\n",
       "    <tr>\n",
       "      <th>1951-12-31</th>\n",
       "      <td>3.89356</td>\n",
       "    </tr>\n",
       "    <tr>\n",
       "      <th>1952-12-31</th>\n",
       "      <td>3.42695</td>\n",
       "    </tr>\n",
       "    <tr>\n",
       "      <th>...</th>\n",
       "      <td>...</td>\n",
       "    </tr>\n",
       "    <tr>\n",
       "      <th>2005-12-31</th>\n",
       "      <td>100.00000</td>\n",
       "    </tr>\n",
       "    <tr>\n",
       "      <th>2006-12-31</th>\n",
       "      <td>104.74100</td>\n",
       "    </tr>\n",
       "    <tr>\n",
       "      <th>2007-12-31</th>\n",
       "      <td>109.77000</td>\n",
       "    </tr>\n",
       "    <tr>\n",
       "      <th>2008-12-31</th>\n",
       "      <td>119.76800</td>\n",
       "    </tr>\n",
       "    <tr>\n",
       "      <th>2009-12-31</th>\n",
       "      <td>122.34700</td>\n",
       "    </tr>\n",
       "  </tbody>\n",
       "</table>\n",
       "<p>62 rows × 1 columns</p>\n",
       "</div>"
      ],
      "text/plain": [
       "            PPI / WPI; INDEX NUMBER\n",
       "Date                               \n",
       "1948-12-31                  3.25101\n",
       "1949-12-31                  3.38105\n",
       "1950-12-31                  3.55699\n",
       "1951-12-31                  3.89356\n",
       "1952-12-31                  3.42695\n",
       "...                             ...\n",
       "2005-12-31                100.00000\n",
       "2006-12-31                104.74100\n",
       "2007-12-31                109.77000\n",
       "2008-12-31                119.76800\n",
       "2009-12-31                122.34700\n",
       "\n",
       "[62 rows x 1 columns]"
      ]
     },
     "execution_count": 10,
     "metadata": {},
     "output_type": "execute_result"
    }
   ],
   "source": [
    "data"
   ]
  },
  {
   "cell_type": "code",
   "execution_count": 11,
   "id": "educational-virus",
   "metadata": {},
   "outputs": [],
   "source": [
    "data['shift']=data.shift( periods=1)"
   ]
  },
  {
   "cell_type": "code",
   "execution_count": 21,
   "id": "little-party",
   "metadata": {},
   "outputs": [],
   "source": [
    "data['inflation rate']=round(((data.iloc[:,0]-data['shift'])/data['shift'])*100,4)"
   ]
  },
  {
   "cell_type": "code",
   "execution_count": 22,
   "id": "collectible-courage",
   "metadata": {},
   "outputs": [
    {
     "data": {
      "text/html": [
       "<div>\n",
       "<style scoped>\n",
       "    .dataframe tbody tr th:only-of-type {\n",
       "        vertical-align: middle;\n",
       "    }\n",
       "\n",
       "    .dataframe tbody tr th {\n",
       "        vertical-align: top;\n",
       "    }\n",
       "\n",
       "    .dataframe thead th {\n",
       "        text-align: right;\n",
       "    }\n",
       "</style>\n",
       "<table border=\"1\" class=\"dataframe\">\n",
       "  <thead>\n",
       "    <tr style=\"text-align: right;\">\n",
       "      <th></th>\n",
       "      <th>PPI / WPI; INDEX NUMBER</th>\n",
       "      <th>shift</th>\n",
       "      <th>inflation rate</th>\n",
       "    </tr>\n",
       "    <tr>\n",
       "      <th>Date</th>\n",
       "      <th></th>\n",
       "      <th></th>\n",
       "      <th></th>\n",
       "    </tr>\n",
       "  </thead>\n",
       "  <tbody>\n",
       "    <tr>\n",
       "      <th>1948-12-31</th>\n",
       "      <td>3.25101</td>\n",
       "      <td>NaN</td>\n",
       "      <td>NaN</td>\n",
       "    </tr>\n",
       "    <tr>\n",
       "      <th>1949-12-31</th>\n",
       "      <td>3.38105</td>\n",
       "      <td>3.25101</td>\n",
       "      <td>4.0000</td>\n",
       "    </tr>\n",
       "    <tr>\n",
       "      <th>1950-12-31</th>\n",
       "      <td>3.55699</td>\n",
       "      <td>3.38105</td>\n",
       "      <td>5.2037</td>\n",
       "    </tr>\n",
       "    <tr>\n",
       "      <th>1951-12-31</th>\n",
       "      <td>3.89356</td>\n",
       "      <td>3.55699</td>\n",
       "      <td>9.4622</td>\n",
       "    </tr>\n",
       "    <tr>\n",
       "      <th>1952-12-31</th>\n",
       "      <td>3.42695</td>\n",
       "      <td>3.89356</td>\n",
       "      <td>-11.9841</td>\n",
       "    </tr>\n",
       "    <tr>\n",
       "      <th>...</th>\n",
       "      <td>...</td>\n",
       "      <td>...</td>\n",
       "      <td>...</td>\n",
       "    </tr>\n",
       "    <tr>\n",
       "      <th>2005-12-31</th>\n",
       "      <td>100.00000</td>\n",
       "      <td>95.49160</td>\n",
       "      <td>4.7213</td>\n",
       "    </tr>\n",
       "    <tr>\n",
       "      <th>2006-12-31</th>\n",
       "      <td>104.74100</td>\n",
       "      <td>100.00000</td>\n",
       "      <td>4.7410</td>\n",
       "    </tr>\n",
       "    <tr>\n",
       "      <th>2007-12-31</th>\n",
       "      <td>109.77000</td>\n",
       "      <td>104.74100</td>\n",
       "      <td>4.8014</td>\n",
       "    </tr>\n",
       "    <tr>\n",
       "      <th>2008-12-31</th>\n",
       "      <td>119.76800</td>\n",
       "      <td>109.77000</td>\n",
       "      <td>9.1081</td>\n",
       "    </tr>\n",
       "    <tr>\n",
       "      <th>2009-12-31</th>\n",
       "      <td>122.34700</td>\n",
       "      <td>119.76800</td>\n",
       "      <td>2.1533</td>\n",
       "    </tr>\n",
       "  </tbody>\n",
       "</table>\n",
       "<p>62 rows × 3 columns</p>\n",
       "</div>"
      ],
      "text/plain": [
       "            PPI / WPI; INDEX NUMBER      shift  inflation rate\n",
       "Date                                                          \n",
       "1948-12-31                  3.25101        NaN             NaN\n",
       "1949-12-31                  3.38105    3.25101          4.0000\n",
       "1950-12-31                  3.55699    3.38105          5.2037\n",
       "1951-12-31                  3.89356    3.55699          9.4622\n",
       "1952-12-31                  3.42695    3.89356        -11.9841\n",
       "...                             ...        ...             ...\n",
       "2005-12-31                100.00000   95.49160          4.7213\n",
       "2006-12-31                104.74100  100.00000          4.7410\n",
       "2007-12-31                109.77000  104.74100          4.8014\n",
       "2008-12-31                119.76800  109.77000          9.1081\n",
       "2009-12-31                122.34700  119.76800          2.1533\n",
       "\n",
       "[62 rows x 3 columns]"
      ]
     },
     "execution_count": 22,
     "metadata": {},
     "output_type": "execute_result"
    }
   ],
   "source": [
    "data"
   ]
  },
  {
   "cell_type": "code",
   "execution_count": 41,
   "id": "enclosed-lemon",
   "metadata": {},
   "outputs": [
    {
     "name": "stderr",
     "output_type": "stream",
     "text": [
      "c:\\users\\revei\\appdata\\local\\programs\\python\\python39\\lib\\site-packages\\openpyxl\\styles\\stylesheet.py:221: UserWarning: Workbook contains no default style, apply openpyxl's default\n",
      "  warn(\"Workbook contains no default style, apply openpyxl's default\")\n"
     ]
    }
   ],
   "source": [
    "dataset=pd.read_excel('rbi-cpi.xlsx',sheet_name=1)"
   ]
  },
  {
   "cell_type": "code",
   "execution_count": 42,
   "id": "amateur-headset",
   "metadata": {},
   "outputs": [],
   "source": [
    "new_data=dataset.drop(['Unnamed: 0','Unnamed: 4','Unnamed: 6','Unnamed: 8','Unnamed: 10','Unnamed: 1'],axis=1)"
   ]
  },
  {
   "cell_type": "code",
   "execution_count": 43,
   "id": "latin-volume",
   "metadata": {},
   "outputs": [],
   "source": [
    "new_data.columns=['month','commodity description','rural','urban','combined']"
   ]
  },
  {
   "cell_type": "code",
   "execution_count": 44,
   "id": "velvet-racing",
   "metadata": {},
   "outputs": [
    {
     "data": {
      "text/html": [
       "<div>\n",
       "<style scoped>\n",
       "    .dataframe tbody tr th:only-of-type {\n",
       "        vertical-align: middle;\n",
       "    }\n",
       "\n",
       "    .dataframe tbody tr th {\n",
       "        vertical-align: top;\n",
       "    }\n",
       "\n",
       "    .dataframe thead th {\n",
       "        text-align: right;\n",
       "    }\n",
       "</style>\n",
       "<table border=\"1\" class=\"dataframe\">\n",
       "  <thead>\n",
       "    <tr style=\"text-align: right;\">\n",
       "      <th></th>\n",
       "      <th>month</th>\n",
       "      <th>commodity description</th>\n",
       "      <th>rural</th>\n",
       "      <th>urban</th>\n",
       "      <th>combined</th>\n",
       "    </tr>\n",
       "  </thead>\n",
       "  <tbody>\n",
       "    <tr>\n",
       "      <th>4</th>\n",
       "      <td>Month</td>\n",
       "      <td>Commodity Description</td>\n",
       "      <td>Rural</td>\n",
       "      <td>Urban</td>\n",
       "      <td>Combined</td>\n",
       "    </tr>\n",
       "    <tr>\n",
       "      <th>6</th>\n",
       "      <td>FEB-2021</td>\n",
       "      <td>A) General Index</td>\n",
       "      <td>156.7</td>\n",
       "      <td>156.5</td>\n",
       "      <td>156.6</td>\n",
       "    </tr>\n",
       "    <tr>\n",
       "      <th>7</th>\n",
       "      <td>FEB-2021</td>\n",
       "      <td>A.1) Food and beverages</td>\n",
       "      <td>154.7</td>\n",
       "      <td>160.8</td>\n",
       "      <td>156.9</td>\n",
       "    </tr>\n",
       "    <tr>\n",
       "      <th>8</th>\n",
       "      <td>FEB-2021</td>\n",
       "      <td>A.1.1) Cereals and products</td>\n",
       "      <td>142.8</td>\n",
       "      <td>147.6</td>\n",
       "      <td>144.3</td>\n",
       "    </tr>\n",
       "    <tr>\n",
       "      <th>9</th>\n",
       "      <td>FEB-2021</td>\n",
       "      <td>A.1.2) Meat and fish</td>\n",
       "      <td>184</td>\n",
       "      <td>191.2</td>\n",
       "      <td>186.5</td>\n",
       "    </tr>\n",
       "    <tr>\n",
       "      <th>...</th>\n",
       "      <td>...</td>\n",
       "      <td>...</td>\n",
       "      <td>...</td>\n",
       "      <td>...</td>\n",
       "      <td>...</td>\n",
       "    </tr>\n",
       "    <tr>\n",
       "      <th>4718</th>\n",
       "      <td>JAN-2013</td>\n",
       "      <td>A.6.2) Health</td>\n",
       "      <td>104</td>\n",
       "      <td>104.1</td>\n",
       "      <td>104</td>\n",
       "    </tr>\n",
       "    <tr>\n",
       "      <th>4719</th>\n",
       "      <td>JAN-2013</td>\n",
       "      <td>A.6.3) Transport and communication</td>\n",
       "      <td>103.3</td>\n",
       "      <td>103.2</td>\n",
       "      <td>103.2</td>\n",
       "    </tr>\n",
       "    <tr>\n",
       "      <th>4720</th>\n",
       "      <td>JAN-2013</td>\n",
       "      <td>A.6.4) Recreation and amusement</td>\n",
       "      <td>103.4</td>\n",
       "      <td>102.9</td>\n",
       "      <td>103.1</td>\n",
       "    </tr>\n",
       "    <tr>\n",
       "      <th>4721</th>\n",
       "      <td>JAN-2013</td>\n",
       "      <td>A.6.5) Education</td>\n",
       "      <td>103.8</td>\n",
       "      <td>103.5</td>\n",
       "      <td>103.6</td>\n",
       "    </tr>\n",
       "    <tr>\n",
       "      <th>4722</th>\n",
       "      <td>JAN-2013</td>\n",
       "      <td>A.6.6) Personal Care and Effects</td>\n",
       "      <td>104.7</td>\n",
       "      <td>104.3</td>\n",
       "      <td>104.5</td>\n",
       "    </tr>\n",
       "  </tbody>\n",
       "</table>\n",
       "<p>4534 rows × 5 columns</p>\n",
       "</div>"
      ],
      "text/plain": [
       "         month               commodity description  rural  urban  combined\n",
       "4        Month               Commodity Description  Rural  Urban  Combined\n",
       "6     FEB-2021                    A) General Index  156.7  156.5     156.6\n",
       "7     FEB-2021             A.1) Food and beverages  154.7  160.8     156.9\n",
       "8     FEB-2021         A.1.1) Cereals and products  142.8  147.6     144.3\n",
       "9     FEB-2021                A.1.2) Meat and fish    184  191.2     186.5\n",
       "...        ...                                 ...    ...    ...       ...\n",
       "4718  JAN-2013                       A.6.2) Health    104  104.1       104\n",
       "4719  JAN-2013  A.6.3) Transport and communication  103.3  103.2     103.2\n",
       "4720  JAN-2013     A.6.4) Recreation and amusement  103.4  102.9     103.1\n",
       "4721  JAN-2013                    A.6.5) Education  103.8  103.5     103.6\n",
       "4722  JAN-2013    A.6.6) Personal Care and Effects  104.7  104.3     104.5\n",
       "\n",
       "[4534 rows x 5 columns]"
      ]
     },
     "execution_count": 44,
     "metadata": {},
     "output_type": "execute_result"
    }
   ],
   "source": [
    "new_data.dropna()"
   ]
  },
  {
   "cell_type": "code",
   "execution_count": 48,
   "id": "velvet-importance",
   "metadata": {},
   "outputs": [],
   "source": [
    "def real_return(ir,ar):\n",
    "    rr=round(ar-ir,2)\n",
    "    print('real return for given inflation - {} , actual return - {} is {}'.format(ir,ar,rr))"
   ]
  },
  {
   "cell_type": "code",
   "execution_count": 49,
   "id": "national-mention",
   "metadata": {},
   "outputs": [
    {
     "name": "stdout",
     "output_type": "stream",
     "text": [
      "real return for given inflation - 0.04 , actual return - 0.1 is 0.06\n"
     ]
    }
   ],
   "source": [
    "real_return(0.04,0.1)"
   ]
  },
  {
   "cell_type": "markdown",
   "id": "scientific-oxide",
   "metadata": {},
   "source": [
    "## Banking Rates"
   ]
  },
  {
   "cell_type": "code",
   "execution_count": 50,
   "id": "connected-stake",
   "metadata": {},
   "outputs": [],
   "source": [
    "url='https://www.rbi.org.in/home.aspx'"
   ]
  },
  {
   "cell_type": "code",
   "execution_count": 59,
   "id": "exciting-makeup",
   "metadata": {},
   "outputs": [],
   "source": [
    "banking_data=pd.read_html(url)"
   ]
  },
  {
   "cell_type": "code",
   "execution_count": 62,
   "id": "mounted-seating",
   "metadata": {},
   "outputs": [],
   "source": [
    "repo=banking_data[0]"
   ]
  },
  {
   "cell_type": "code",
   "execution_count": 117,
   "id": "lonely-diagnosis",
   "metadata": {},
   "outputs": [],
   "source": [
    "rbi_rates=banking_data[1]"
   ]
  },
  {
   "cell_type": "code",
   "execution_count": 64,
   "id": "chief-diagnosis",
   "metadata": {},
   "outputs": [],
   "source": [
    "lending=banking_data[3]"
   ]
  },
  {
   "cell_type": "code",
   "execution_count": 66,
   "id": "spread-sunrise",
   "metadata": {},
   "outputs": [],
   "source": [
    "market=banking_data[4]"
   ]
  },
  {
   "cell_type": "code",
   "execution_count": 118,
   "id": "ordinary-polymer",
   "metadata": {},
   "outputs": [
    {
     "data": {
      "text/html": [
       "<div>\n",
       "<style scoped>\n",
       "    .dataframe tbody tr th:only-of-type {\n",
       "        vertical-align: middle;\n",
       "    }\n",
       "\n",
       "    .dataframe tbody tr th {\n",
       "        vertical-align: top;\n",
       "    }\n",
       "\n",
       "    .dataframe thead th {\n",
       "        text-align: right;\n",
       "    }\n",
       "</style>\n",
       "<table border=\"1\" class=\"dataframe\">\n",
       "  <thead>\n",
       "    <tr style=\"text-align: right;\">\n",
       "      <th></th>\n",
       "      <th>0</th>\n",
       "      <th>1</th>\n",
       "    </tr>\n",
       "  </thead>\n",
       "  <tbody>\n",
       "    <tr>\n",
       "      <th>0</th>\n",
       "      <td>CRR</td>\n",
       "      <td>:  3.50%</td>\n",
       "    </tr>\n",
       "    <tr>\n",
       "      <th>1</th>\n",
       "      <td>SLR</td>\n",
       "      <td>:  18.00%</td>\n",
       "    </tr>\n",
       "  </tbody>\n",
       "</table>\n",
       "</div>"
      ],
      "text/plain": [
       "     0          1\n",
       "0  CRR   :  3.50%\n",
       "1  SLR  :  18.00%"
      ]
     },
     "execution_count": 118,
     "metadata": {},
     "output_type": "execute_result"
    }
   ],
   "source": [
    "rbi_rates"
   ]
  },
  {
   "cell_type": "code",
   "execution_count": 116,
   "id": "mysterious-fortune",
   "metadata": {},
   "outputs": [],
   "source": [
    "def lending_amount(crr,slr,deposite):\n",
    "    lending_amount=deposite-(deposite*(crr+slr))\n",
    "    crr_amount=deposite*crr\n",
    "    slr_amount=deposite*slr\n",
    "    print('lending amount:{}, crr amount: {}, and slr amount: {}'.format(lending_amount,crr_amount,slr_amount))"
   ]
  },
  {
   "cell_type": "code",
   "execution_count": 119,
   "id": "clinical-fever",
   "metadata": {},
   "outputs": [
    {
     "name": "stdout",
     "output_type": "stream",
     "text": [
      "lending amount:785.0, crr amount: 35.0, and slr amount: 180.0\n"
     ]
    }
   ],
   "source": [
    "lending_amount(0.035,0.18,1000)"
   ]
  },
  {
   "cell_type": "code",
   "execution_count": null,
   "id": "further-wagner",
   "metadata": {},
   "outputs": [],
   "source": []
  }
 ],
 "metadata": {
  "kernelspec": {
   "display_name": "Python 3",
   "language": "python",
   "name": "python3"
  },
  "language_info": {
   "codemirror_mode": {
    "name": "ipython",
    "version": 3
   },
   "file_extension": ".py",
   "mimetype": "text/x-python",
   "name": "python",
   "nbconvert_exporter": "python",
   "pygments_lexer": "ipython3",
   "version": "3.9.2"
  }
 },
 "nbformat": 4,
 "nbformat_minor": 5
}
